{
 "cells": [
  {
   "cell_type": "code",
   "execution_count": 30,
   "metadata": {},
   "outputs": [
    {
     "name": "stdout",
     "output_type": "stream",
     "text": [
      "Melt, Pivot, Aggregations, and Iteration.\n",
      "Index(['class', ' age', ' menopause', ' tumor-size', ' inv-nodes',\n",
      "       ' node-caps', ' deg-malig', ' breast', ' breast-quad', ' irradiat'],\n",
      "      dtype='object')\n",
      "Melt\n",
      "                    class    age  menopause  tumor-size  inv-nodes  node-caps  \\\n",
      "0    no-recurrence-events  30-39    premeno       30-34        0-2         no   \n",
      "1    no-recurrence-events  40-49    premeno       20-24        0-2         no   \n",
      "2    no-recurrence-events  40-49    premeno       20-24        0-2         no   \n",
      "3    no-recurrence-events  60-69       ge40       15-19        0-2         no   \n",
      "4    no-recurrence-events  40-49    premeno         0-4        0-2         no   \n",
      "..                    ...    ...        ...         ...        ...        ...   \n",
      "281     recurrence-events  30-39    premeno       30-34        0-2         no   \n",
      "282     recurrence-events  30-39    premeno       20-24        0-2         no   \n",
      "283     recurrence-events  60-69       ge40       20-24        0-2         no   \n",
      "284     recurrence-events  40-49       ge40       30-34        3-5         no   \n",
      "285     recurrence-events  50-59       ge40       30-34        3-5         no   \n",
      "\n",
      "      deg-malig  breast  breast-quad  irradiat  \n",
      "0             3    left     left_low        no  \n",
      "1             2   right     right_up        no  \n",
      "2             2    left     left_low        no  \n",
      "3             2   right      left_up        no  \n",
      "4             2   right    right_low        no  \n",
      "..          ...     ...          ...       ...  \n",
      "281           2    left      left_up        no  \n",
      "282           3    left      left_up       yes  \n",
      "283           1   right      left_up        no  \n",
      "284           3    left     left_low        no  \n",
      "285           3    left     left_low        no  \n",
      "\n",
      "[286 rows x 10 columns]\n"
     ]
    },
    {
     "ename": "KeyError",
     "evalue": "\"The following 'value_vars' are not present in the DataFrame: ['deg-malig']\"",
     "output_type": "error",
     "traceback": [
      "\u001b[0;31m---------------------------------------------------------------------------\u001b[0m",
      "\u001b[0;31mKeyError\u001b[0m                                  Traceback (most recent call last)",
      "Cell \u001b[0;32mIn [30], line 15\u001b[0m\n\u001b[1;32m     13\u001b[0m \u001b[39mprint\u001b[39m(df)\n\u001b[1;32m     14\u001b[0m \u001b[39m#df_melt = pd.melt(df, value_vars = ['tumor_size'], value_name = 'tumor size')\u001b[39;00m\n\u001b[0;32m---> 15\u001b[0m df_melt \u001b[39m=\u001b[39m pd\u001b[39m.\u001b[39;49mmelt(df, value_vars \u001b[39m=\u001b[39;49m [\u001b[39m'\u001b[39;49m\u001b[39mdeg-malig\u001b[39;49m\u001b[39m'\u001b[39;49m])\n\u001b[1;32m     16\u001b[0m \u001b[39mprint\u001b[39m(df_melt)\n",
      "File \u001b[0;32m/usr/local/lib/python3.10/site-packages/pandas/core/reshape/melt.py:96\u001b[0m, in \u001b[0;36mmelt\u001b[0;34m(frame, id_vars, value_vars, var_name, value_name, col_level, ignore_index)\u001b[0m\n\u001b[1;32m     94\u001b[0m     missing \u001b[39m=\u001b[39m Index(com\u001b[39m.\u001b[39mflatten(value_vars))\u001b[39m.\u001b[39mdifference(cols)\n\u001b[1;32m     95\u001b[0m     \u001b[39mif\u001b[39;00m \u001b[39mnot\u001b[39;00m missing\u001b[39m.\u001b[39mempty:\n\u001b[0;32m---> 96\u001b[0m         \u001b[39mraise\u001b[39;00m \u001b[39mKeyError\u001b[39;00m(\n\u001b[1;32m     97\u001b[0m             \u001b[39m\"\u001b[39m\u001b[39mThe following \u001b[39m\u001b[39m'\u001b[39m\u001b[39mvalue_vars\u001b[39m\u001b[39m'\u001b[39m\u001b[39m are not present in \u001b[39m\u001b[39m\"\u001b[39m\n\u001b[1;32m     98\u001b[0m             \u001b[39mf\u001b[39m\u001b[39m\"\u001b[39m\u001b[39mthe DataFrame: \u001b[39m\u001b[39m{\u001b[39;00m\u001b[39mlist\u001b[39m(missing)\u001b[39m}\u001b[39;00m\u001b[39m\"\u001b[39m\n\u001b[1;32m     99\u001b[0m         )\n\u001b[1;32m    100\u001b[0m \u001b[39mif\u001b[39;00m col_level \u001b[39mis\u001b[39;00m \u001b[39mnot\u001b[39;00m \u001b[39mNone\u001b[39;00m:\n\u001b[1;32m    101\u001b[0m     idx \u001b[39m=\u001b[39m frame\u001b[39m.\u001b[39mcolumns\u001b[39m.\u001b[39mget_level_values(col_level)\u001b[39m.\u001b[39mget_indexer(\n\u001b[1;32m    102\u001b[0m         id_vars \u001b[39m+\u001b[39m value_vars\n\u001b[1;32m    103\u001b[0m     )\n",
      "\u001b[0;31mKeyError\u001b[0m: \"The following 'value_vars' are not present in the DataFrame: ['deg-malig']\""
     ]
    }
   ],
   "source": [
    "print('Melt, Pivot, Aggregations, and Iteration.')\n",
    "\n",
    "import pandas as pd\n",
    "#importing data\n",
    "data = pd.read_csv('breast-cancer.data')\n",
    "#print column names\n",
    "print(data.columns)\n",
    "\n",
    "#working on Melt\n",
    "print('Melt')\n",
    "#create data frame\n",
    "df = pd.DataFrame(data)\n",
    "print(df)\n",
    "#df_melt = pd.melt(df, value_vars = ['tumor_size'], value_name = 'tumor size')\n",
    "df_melt = pd.melt(df, value_vars = ['deg-malig'])\n",
    "print(df_melt)\n"
   ]
  },
  {
   "cell_type": "code",
   "execution_count": null,
   "metadata": {},
   "outputs": [],
   "source": []
  }
 ],
 "metadata": {
  "kernelspec": {
   "display_name": "Python 3.10.6 64-bit",
   "language": "python",
   "name": "python3"
  },
  "language_info": {
   "codemirror_mode": {
    "name": "ipython",
    "version": 3
   },
   "file_extension": ".py",
   "mimetype": "text/x-python",
   "name": "python",
   "nbconvert_exporter": "python",
   "pygments_lexer": "ipython3",
   "version": "3.10.6"
  },
  "orig_nbformat": 4,
  "vscode": {
   "interpreter": {
    "hash": "aee8b7b246df8f9039afb4144a1f6fd8d2ca17a180786b69acc140d282b71a49"
   }
  }
 },
 "nbformat": 4,
 "nbformat_minor": 2
}
