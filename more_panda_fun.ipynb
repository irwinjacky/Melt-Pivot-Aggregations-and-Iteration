{
 "cells": [
  {
   "cell_type": "code",
   "execution_count": 118,
   "metadata": {},
   "outputs": [
    {
     "name": "stdout",
     "output_type": "stream",
     "text": [
      "Melt, Pivot, Aggregations, and Iteration.\n"
     ]
    }
   ],
   "source": [
    "print('Melt, Pivot, Aggregations, and Iteration.')\n",
    "\n",
    "import pandas as pd\n",
    "import numpy as np\n",
    "#importing data\n",
    "data = pd.read_csv('breast-cancer.data')\n",
    "data.columns = ['class', 'age', 'menopause', 'tumor_size', 'inv_nodes', 'node_caps', 'deg_malig', 'breast', 'breast_quad', 'irradiat']"
   ]
  },
  {
   "cell_type": "code",
   "execution_count": 131,
   "metadata": {},
   "outputs": [
    {
     "name": "stdout",
     "output_type": "stream",
     "text": [
      "Melt\n",
      "Index(['class', 'age', 'menopause', 'tumor_size', 'inv_nodes', 'node_caps',\n",
      "       'deg_malig', 'breast', 'breast_quad', 'irradiat'],\n",
      "      dtype='object')\n",
      "    inv_nodes    variable tumor size\n",
      "0         0-2  tumor_size      20-24\n",
      "1         0-2  tumor_size      20-24\n",
      "2         0-2  tumor_size      15-19\n",
      "3         0-2  tumor_size        0-4\n",
      "4         0-2  tumor_size      15-19\n",
      "..        ...         ...        ...\n",
      "280       0-2  tumor_size      30-34\n",
      "281       0-2  tumor_size      20-24\n",
      "282       0-2  tumor_size      20-24\n",
      "283       3-5  tumor_size      30-34\n",
      "284       3-5  tumor_size      30-34\n",
      "\n",
      "[285 rows x 3 columns]\n"
     ]
    }
   ],
   "source": [
    "#working on Melt\n",
    "print('Melt')\n",
    "#create data frame\n",
    "df = pd.DataFrame(data)\n",
    "print(df.columns)\n",
    "#print(df)\n",
    "#melt\n",
    "df_melt = pd.melt(df, id_vars = ['inv_nodes'], value_vars = ['tumor_size'], value_name = 'tumor size')\n",
    "print(df_melt)"
   ]
  },
  {
   "cell_type": "code",
   "execution_count": 145,
   "metadata": {},
   "outputs": [
    {
     "name": "stdout",
     "output_type": "stream",
     "text": [
      "pivot\n",
      "Index(['class', 'age', 'menopause', 'tumor_size', 'inv_nodes', 'node_caps',\n",
      "       'deg_malig', 'breast', 'breast_quad', 'irradiat'],\n",
      "      dtype='object')\n",
      "irradiat     no    yes\n",
      "0         20-24    NaN\n",
      "1         20-24    NaN\n",
      "2         15-19    NaN\n",
      "3           0-4    NaN\n",
      "4         15-19    NaN\n",
      "..          ...    ...\n",
      "280       30-34    NaN\n",
      "281         NaN  20-24\n",
      "282       20-24    NaN\n",
      "283       30-34    NaN\n",
      "284       30-34    NaN\n",
      "\n",
      "[285 rows x 2 columns]\n"
     ]
    }
   ],
   "source": [
    "#pivot\n",
    "print('pivot')\n",
    "print(data.columns)\n",
    "#pivot data\n",
    "df_pivot = data.pivot(columns = 'irradiat', values = 'tumor_size')\n",
    "print(df_pivot)"
   ]
  },
  {
   "cell_type": "code",
   "execution_count": 151,
   "metadata": {},
   "outputs": [
    {
     "name": "stdout",
     "output_type": "stream",
     "text": [
      "Aggregations\n",
      "       age tumor_size inv_nodes  deg_malig\n",
      "max  70-79      50-54      9-11        3.0\n",
      "min  20-29        0-4       0-2        NaN\n"
     ]
    }
   ],
   "source": [
    "#Aggregations\n",
    "print('Aggregations')\n",
    "\n",
    "#aggregation max and min of data\n",
    "df_aggregation = data.aggregate({'age': ['max', 'min'],\n",
    "    'tumor_size': ['max', 'min'],\n",
    "    'inv_nodes': ['max', 'min'],\n",
    "    'deg_malig': ['max']})\n",
    "\n",
    "print(df_aggregation)"
   ]
  },
  {
   "cell_type": "code",
   "execution_count": null,
   "metadata": {},
   "outputs": [],
   "source": [
    "#Iteration\n",
    "print('Iteration')\n",
    "\n",
    "#iteration"
   ]
  }
 ],
 "metadata": {
  "kernelspec": {
   "display_name": "Python 3.10.6 64-bit",
   "language": "python",
   "name": "python3"
  },
  "language_info": {
   "codemirror_mode": {
    "name": "ipython",
    "version": 3
   },
   "file_extension": ".py",
   "mimetype": "text/x-python",
   "name": "python",
   "nbconvert_exporter": "python",
   "pygments_lexer": "ipython3",
   "version": "3.10.6"
  },
  "orig_nbformat": 4,
  "vscode": {
   "interpreter": {
    "hash": "aee8b7b246df8f9039afb4144a1f6fd8d2ca17a180786b69acc140d282b71a49"
   }
  }
 },
 "nbformat": 4,
 "nbformat_minor": 2
}
