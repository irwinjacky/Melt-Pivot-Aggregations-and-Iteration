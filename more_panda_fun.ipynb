{
 "cells": [
  {
   "cell_type": "code",
   "execution_count": 118,
   "metadata": {},
   "outputs": [
    {
     "name": "stdout",
     "output_type": "stream",
     "text": [
      "Melt, Pivot, Aggregations, and Iteration.\n"
     ]
    }
   ],
   "source": [
    "print('Melt, Pivot, Aggregations, and Iteration.')\n",
    "\n",
    "import pandas as pd\n",
    "import numpy as np\n",
    "#importing data\n",
    "data = pd.read_csv('breast-cancer.data')\n",
    "data.columns = ['class', 'age', 'menopause', 'tumor_size', 'inv_nodes', 'node_caps', 'deg_malig', 'breast', 'breast_quad', 'irradiat']"
   ]
  },
  {
   "cell_type": "code",
   "execution_count": 131,
   "metadata": {},
   "outputs": [
    {
     "name": "stdout",
     "output_type": "stream",
     "text": [
      "Melt\n",
      "Index(['class', 'age', 'menopause', 'tumor_size', 'inv_nodes', 'node_caps',\n",
      "       'deg_malig', 'breast', 'breast_quad', 'irradiat'],\n",
      "      dtype='object')\n",
      "    inv_nodes    variable tumor size\n",
      "0         0-2  tumor_size      20-24\n",
      "1         0-2  tumor_size      20-24\n",
      "2         0-2  tumor_size      15-19\n",
      "3         0-2  tumor_size        0-4\n",
      "4         0-2  tumor_size      15-19\n",
      "..        ...         ...        ...\n",
      "280       0-2  tumor_size      30-34\n",
      "281       0-2  tumor_size      20-24\n",
      "282       0-2  tumor_size      20-24\n",
      "283       3-5  tumor_size      30-34\n",
      "284       3-5  tumor_size      30-34\n",
      "\n",
      "[285 rows x 3 columns]\n"
     ]
    }
   ],
   "source": [
    "#working on Melt\n",
    "print('Melt')\n",
    "#create data frame\n",
    "df = pd.DataFrame(data)\n",
    "print(df.columns)\n",
    "#print(df)\n",
    "#melt\n",
    "df_melt = pd.melt(df, id_vars = ['inv_nodes'], value_vars = ['tumor_size'], value_name = 'tumor size')\n",
    "print(df_melt)"
   ]
  },
  {
   "cell_type": "code",
   "execution_count": 145,
   "metadata": {},
   "outputs": [
    {
     "name": "stdout",
     "output_type": "stream",
     "text": [
      "pivot\n",
      "Index(['class', 'age', 'menopause', 'tumor_size', 'inv_nodes', 'node_caps',\n",
      "       'deg_malig', 'breast', 'breast_quad', 'irradiat'],\n",
      "      dtype='object')\n",
      "irradiat     no    yes\n",
      "0         20-24    NaN\n",
      "1         20-24    NaN\n",
      "2         15-19    NaN\n",
      "3           0-4    NaN\n",
      "4         15-19    NaN\n",
      "..          ...    ...\n",
      "280       30-34    NaN\n",
      "281         NaN  20-24\n",
      "282       20-24    NaN\n",
      "283       30-34    NaN\n",
      "284       30-34    NaN\n",
      "\n",
      "[285 rows x 2 columns]\n"
     ]
    }
   ],
   "source": [
    "#pivot\n",
    "print('pivot')\n",
    "print(data.columns)\n",
    "#pivot data\n",
    "df_pivot = data.pivot(columns = 'irradiat', values = 'tumor_size')\n",
    "print(df_pivot)"
   ]
  },
  {
   "cell_type": "code",
   "execution_count": 151,
   "metadata": {},
   "outputs": [
    {
     "name": "stdout",
     "output_type": "stream",
     "text": [
      "Aggregations\n",
      "       age tumor_size inv_nodes  deg_malig\n",
      "max  70-79      50-54      9-11        3.0\n",
      "min  20-29        0-4       0-2        NaN\n"
     ]
    }
   ],
   "source": [
    "#Aggregations\n",
    "print('Aggregations')\n",
    "\n",
    "#aggregation max and min of data\n",
    "df_aggregation = data.aggregate({'age': ['max', 'min'],\n",
    "    'tumor_size': ['max', 'min'],\n",
    "    'inv_nodes': ['max', 'min'],\n",
    "    'deg_malig': ['max']})\n",
    "\n",
    "print(df_aggregation)"
   ]
  },
  {
   "cell_type": "code",
   "execution_count": 162,
   "metadata": {},
   "outputs": [
    {
     "name": "stdout",
     "output_type": "stream",
     "text": [
      "Iteration\n",
      "0 age          -0.546769\n",
      "tumor_size   -0.582306\n",
      "deg_malig     0.260769\n",
      "Name: 0, dtype: float64\n",
      "1 age           0.721573\n",
      "tumor_size   -0.312287\n",
      "deg_malig    -1.381114\n",
      "Name: 1, dtype: float64\n",
      "2 age           0.865664\n",
      "tumor_size    0.668009\n",
      "deg_malig    -0.744148\n",
      "Name: 2, dtype: float64\n",
      "3 age           0.696406\n",
      "tumor_size   -0.175922\n",
      "deg_malig     0.183656\n",
      "Name: 3, dtype: float64\n"
     ]
    }
   ],
   "source": [
    "#Iteration\n",
    "print('Iteration')\n",
    "\n",
    "#iteration\n",
    "\n",
    "df = pd.DataFrame(np.random.randn(4,3),columns = ['age','tumor_size','deg_malig'])\n",
    "for row_index,row in df.iterrows():\n",
    "   print (row_index,row)"
   ]
  },
  {
   "cell_type": "code",
   "execution_count": 158,
   "metadata": {},
   "outputs": [
    {
     "name": "stdout",
     "output_type": "stream",
     "text": [
      "Groupby\n",
      "            deg_malig\n",
      "tumor_size           \n",
      "0-4                14\n",
      "10-14              44\n",
      "15-19              57\n",
      "20-24             103\n",
      "25-29             114\n",
      "30-34             130\n",
      "35-39              46\n",
      "40-44              47\n",
      "45-49               6\n",
      "5-9                 6\n",
      "           deg_malig\n",
      "inv_nodes           \n",
      "0-2              404\n",
      "12-14              9\n",
      "15-17             17\n",
      "24-26              3\n",
      "3-5               82\n",
      "6-8               44\n",
      "9-11              24\n",
      "       deg_malig\n",
      "age             \n",
      "20-29          2\n",
      "30-39         74\n",
      "40-49        186\n",
      "50-59        199\n",
      "60-69        113\n",
      "70-79          9\n"
     ]
    },
    {
     "name": "stderr",
     "output_type": "stream",
     "text": [
      "/var/folders/1j/ymsl58yn5mn_yd10wjd64tx40000gn/T/ipykernel_33781/2773339062.py:5: FutureWarning: The default value of numeric_only in DataFrameGroupBy.sum is deprecated. In a future version, numeric_only will default to False. Either specify numeric_only or select only columns which should be valid for the function.\n",
      "  df_groupby1 = data.groupby('tumor_size').sum()\n",
      "/var/folders/1j/ymsl58yn5mn_yd10wjd64tx40000gn/T/ipykernel_33781/2773339062.py:9: FutureWarning: The default value of numeric_only in DataFrameGroupBy.sum is deprecated. In a future version, numeric_only will default to False. Either specify numeric_only or select only columns which should be valid for the function.\n",
      "  df_groupby2 = data.groupby('inv_nodes').sum()\n",
      "/var/folders/1j/ymsl58yn5mn_yd10wjd64tx40000gn/T/ipykernel_33781/2773339062.py:13: FutureWarning: The default value of numeric_only in DataFrameGroupBy.sum is deprecated. In a future version, numeric_only will default to False. Either specify numeric_only or select only columns which should be valid for the function.\n",
      "  df_groupby3 = data.groupby('age').sum()\n"
     ]
    }
   ],
   "source": [
    "#Groupby\n",
    "print('Groupby')\n",
    "\n",
    "#group data by tumor size\n",
    "df_groupby1 = data.groupby('tumor_size').sum()\n",
    "print(df_groupby1[:10])\n",
    "\n",
    "#groupby inv_nodes\n",
    "df_groupby2 = data.groupby('inv_nodes').sum()\n",
    "print(df_groupby2)\n",
    "\n",
    "#groupby age\n",
    "df_groupby3 = data.groupby('age').sum()\n",
    "print(df_groupby3)"
   ]
  },
  {
   "cell_type": "code",
   "execution_count": null,
   "metadata": {},
   "outputs": [],
   "source": []
  }
 ],
 "metadata": {
  "kernelspec": {
   "display_name": "Python 3.10.6 64-bit",
   "language": "python",
   "name": "python3"
  },
  "language_info": {
   "codemirror_mode": {
    "name": "ipython",
    "version": 3
   },
   "file_extension": ".py",
   "mimetype": "text/x-python",
   "name": "python",
   "nbconvert_exporter": "python",
   "pygments_lexer": "ipython3",
   "version": "3.10.6"
  },
  "orig_nbformat": 4,
  "vscode": {
   "interpreter": {
    "hash": "aee8b7b246df8f9039afb4144a1f6fd8d2ca17a180786b69acc140d282b71a49"
   }
  }
 },
 "nbformat": 4,
 "nbformat_minor": 2
}
